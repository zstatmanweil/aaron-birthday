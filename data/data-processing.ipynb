{
 "cells": [
  {
   "cell_type": "code",
   "execution_count": 1,
   "metadata": {},
   "outputs": [],
   "source": [
    "import pandas as pd\n",
    "import geopandas as gpd\n",
    "from shapely.geometry import Point"
   ]
  },
  {
   "cell_type": "code",
   "execution_count": 5,
   "metadata": {},
   "outputs": [],
   "source": [
    "df = pd.read_csv('housing.csv')"
   ]
  },
  {
   "cell_type": "code",
   "execution_count": 6,
   "metadata": {},
   "outputs": [
    {
     "data": {
      "text/html": [
       "<div>\n",
       "<style scoped>\n",
       "    .dataframe tbody tr th:only-of-type {\n",
       "        vertical-align: middle;\n",
       "    }\n",
       "\n",
       "    .dataframe tbody tr th {\n",
       "        vertical-align: top;\n",
       "    }\n",
       "\n",
       "    .dataframe thead th {\n",
       "        text-align: right;\n",
       "    }\n",
       "</style>\n",
       "<table border=\"1\" class=\"dataframe\">\n",
       "  <thead>\n",
       "    <tr style=\"text-align: right;\">\n",
       "      <th></th>\n",
       "      <th>Start</th>\n",
       "      <th>Address</th>\n",
       "      <th>Roommates</th>\n",
       "      <th>Long</th>\n",
       "      <th>Lat</th>\n",
       "    </tr>\n",
       "  </thead>\n",
       "  <tbody>\n",
       "    <tr>\n",
       "      <th>0</th>\n",
       "      <td>8/16/1989</td>\n",
       "      <td>71 Lomita Drive, Mill Valley, CA 94941</td>\n",
       "      <td>Barbara Strick / Larry Strick</td>\n",
       "      <td>-122.52266</td>\n",
       "      <td>37.90705</td>\n",
       "    </tr>\n",
       "    <tr>\n",
       "      <th>1</th>\n",
       "      <td>6/1/2013</td>\n",
       "      <td>1885 Turk St, San Francisco 94115</td>\n",
       "      <td>Ben Slater</td>\n",
       "      <td>-122.44011</td>\n",
       "      <td>37.77936</td>\n",
       "    </tr>\n",
       "    <tr>\n",
       "      <th>2</th>\n",
       "      <td>12/1/2014</td>\n",
       "      <td>85 Richland Ave, San Francisco 94110</td>\n",
       "      <td>Ben Slater / Toby Silverman / Emily Bell / Abi...</td>\n",
       "      <td>-122.42172</td>\n",
       "      <td>37.73586</td>\n",
       "    </tr>\n",
       "    <tr>\n",
       "      <th>3</th>\n",
       "      <td>4/1/2017</td>\n",
       "      <td>1250 63rd St, Emeryville 94608</td>\n",
       "      <td>Cooper Rogers / Cora Lautze / Emily Dubin / Pa...</td>\n",
       "      <td>-122.28746</td>\n",
       "      <td>37.84511</td>\n",
       "    </tr>\n",
       "    <tr>\n",
       "      <th>4</th>\n",
       "      <td>11/1/2017</td>\n",
       "      <td>1620 Russell Street, Berkeley 94703</td>\n",
       "      <td>Ben Slater / Molly Rose Williams / Swen Hendri...</td>\n",
       "      <td>-122.27612</td>\n",
       "      <td>37.85517</td>\n",
       "    </tr>\n",
       "  </tbody>\n",
       "</table>\n",
       "</div>"
      ],
      "text/plain": [
       "       Start                                 Address  \\\n",
       "0  8/16/1989  71 Lomita Drive, Mill Valley, CA 94941   \n",
       "1   6/1/2013       1885 Turk St, San Francisco 94115   \n",
       "2  12/1/2014    85 Richland Ave, San Francisco 94110   \n",
       "3   4/1/2017          1250 63rd St, Emeryville 94608   \n",
       "4  11/1/2017     1620 Russell Street, Berkeley 94703   \n",
       "\n",
       "                                           Roommates       Long       Lat  \n",
       "0                      Barbara Strick / Larry Strick -122.52266  37.90705  \n",
       "1                                         Ben Slater -122.44011  37.77936  \n",
       "2  Ben Slater / Toby Silverman / Emily Bell / Abi... -122.42172  37.73586  \n",
       "3  Cooper Rogers / Cora Lautze / Emily Dubin / Pa... -122.28746  37.84511  \n",
       "4  Ben Slater / Molly Rose Williams / Swen Hendri... -122.27612  37.85517  "
      ]
     },
     "execution_count": 6,
     "metadata": {},
     "output_type": "execute_result"
    }
   ],
   "source": [
    "df.head()"
   ]
  },
  {
   "cell_type": "code",
   "execution_count": 16,
   "metadata": {},
   "outputs": [],
   "source": [
    "# Create a new column Coordinates as a tuple of Longitude and Latitude\n",
    "df['Coordinates'] = list(zip(df.Long, df.Lat))"
   ]
  },
  {
   "cell_type": "code",
   "execution_count": 9,
   "metadata": {},
   "outputs": [],
   "source": [
    "# Transform tuples to points\n",
    "df['Coordinates'] = df['Coordinates'].apply(Point)"
   ]
  },
  {
   "cell_type": "code",
   "execution_count": 11,
   "metadata": {},
   "outputs": [],
   "source": [
    "gdf = gpd.GeoDataFrame(df, geometry='Coordinates')"
   ]
  },
  {
   "cell_type": "code",
   "execution_count": 12,
   "metadata": {},
   "outputs": [
    {
     "name": "stderr",
     "output_type": "stream",
     "text": [
      "C:\\Users\\zstat\\Anaconda2\\envs\\py36\\lib\\site-packages\\geopandas\\io\\file.py:108: FionaDeprecationWarning: Use fiona.Env() instead.\n",
      "  with fiona.drivers():\n"
     ]
    }
   ],
   "source": [
    "gdf.to_file('housing.geojson',driver='GeoJSON')"
   ]
  }
 ],
 "metadata": {
  "kernelspec": {
   "display_name": "Python 3",
   "language": "python",
   "name": "python3"
  },
  "language_info": {
   "codemirror_mode": {
    "name": "ipython",
    "version": 3
   },
   "file_extension": ".py",
   "mimetype": "text/x-python",
   "name": "python",
   "nbconvert_exporter": "python",
   "pygments_lexer": "ipython3",
   "version": "3.6.6"
  }
 },
 "nbformat": 4,
 "nbformat_minor": 2
}
